{
  "cells": [
    {
      "cell_type": "code",
      "execution_count": null,
      "metadata": {
        "id": "lFzPTK3oMFp-"
      },
      "outputs": [],
      "source": [
        "!pip3 install gitpython"
      ]
    },
    {
      "cell_type": "code",
      "source": [
        "import os\n",
        "import zipfile\n",
        "from git import Repo\n",
        "import pandas as pd\n",
        "from tensorflow import keras\n",
        "from keras import layers"
      ],
      "metadata": {
        "id": "xtOh1XY8Mb36"
      },
      "execution_count": 2,
      "outputs": []
    },
    {
      "cell_type": "code",
      "source": [
        "if not os.path.exists(\"./dataset/archive.zip\"):\n",
        "    Repo.clone_from(\"https://github.com/werrio5/sudoku-dataset\", \"./dataset\")"
      ],
      "metadata": {
        "id": "CvikfxXiMWH7"
      },
      "execution_count": 3,
      "outputs": []
    },
    {
      "cell_type": "code",
      "source": [
        "zf = zipfile.ZipFile(\"dataset/archive.zip\")\n",
        "df = pd.read_csv(zf.open('sudoku.csv'))\n",
        "quizzes = df[\"quizzes\"]\n",
        "solutions = df[\"solutions\"]"
      ],
      "metadata": {
        "id": "c8WmupuINXYk"
      },
      "execution_count": 4,
      "outputs": []
    },
    {
      "cell_type": "code",
      "source": [
        "# split dataset\n",
        "def strToNums(str):\n",
        "  return list(map(lambda chr: int(chr) / 10, list(str)))\n",
        "\n",
        "train_x = quizzes.sample(frac=0.8, random_state=322).apply(strToNums)\n",
        "train_y = solutions.loc[solutions.index.isin(train_x.index)].apply(strToNums)\n",
        "test_x = quizzes.loc[~quizzes.index.isin(train_x.index)].apply(strToNums)\n",
        "test_y = solutions.loc[solutions.index.isin(test_x.index)].apply(strToNums)"
      ],
      "metadata": {
        "id": "ttwESMIMNdN_"
      },
      "execution_count": 10,
      "outputs": []
    },
    {
      "cell_type": "code",
      "source": [
        "num_classes = 10 # 0..0.9, 0 = undefined\n",
        "input_shape = shape=(81)\n",
        "\n",
        "model = keras.Sequential()\n",
        "model.add(keras.Input(input_shape))\n",
        "for i in range(0, 60):\n",
        "  model.add(layers.Dense(num_classes, activation=\"sigmoid\"))\n",
        "  if (i % 5 == 0):\n",
        "    model.add(layers.Dropout(0.15))\n",
        "model.add(layers.Dense(num_classes, activation=keras.layers.Lambda( lambda f: round(f, 1) )(input_shape)))\n",
        "\n",
        "model.summary()"
      ],
      "metadata": {
        "id": "4G5kr8a7N2oq"
      },
      "execution_count": null,
      "outputs": []
    }
  ],
  "metadata": {
    "kernelspec": {
      "display_name": "Python 3",
      "language": "python",
      "name": "python3"
    },
    "language_info": {
      "name": "python",
      "version": "3.10.11"
    },
    "orig_nbformat": 4,
    "colab": {
      "provenance": []
    }
  },
  "nbformat": 4,
  "nbformat_minor": 0
}